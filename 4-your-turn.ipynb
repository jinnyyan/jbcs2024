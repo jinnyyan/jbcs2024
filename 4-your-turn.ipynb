{
 "cells": [
  {
   "cell_type": "code",
   "execution_count": null,
   "metadata": {},
   "outputs": [],
   "source": [
    "# TODO: Do code here"
   ]
  },
  {
   "cell_type": "markdown",
   "metadata": {},
   "source": [
    "### 1. Pick your dataset from MinIO and decide your goals"
   ]
  },
  {
   "cell_type": "markdown",
   "metadata": {},
   "source": [
    "### 2. Bring a sample data into your Python environment and explore it "
   ]
  },
  {
   "cell_type": "markdown",
   "metadata": {},
   "source": [
    "### 3. Transform the data if needed, push it to Postgres"
   ]
  },
  {
   "cell_type": "markdown",
   "metadata": {},
   "source": [
    "### 4. Make a Superset dashboard with contents from Postgres"
   ]
  },
  {
   "cell_type": "code",
   "execution_count": 6,
   "metadata": {},
   "outputs": [
    {
     "name": "stdout",
     "output_type": "stream",
     "text": [
      "{'translatedText': 'Old payback'}\n"
     ]
    }
   ],
   "source": [
    "# NOTE: Some code below for hitting an API\n",
    "import requests\n",
    "import yaml\n",
    "\n",
    "keys_file_path = 'keys.yaml' # TODO: Make sure this is in your repository and get your own access/secret keys from MinIO!\n",
    "\n",
    "with open(keys_file_path, 'r') as file:\n",
    "    keys = yaml.safe_load(file)\n",
    "\n",
    "translate_endpoint = keys.get('services')['translate_endpoint'] \n",
    "\n",
    "# API endpoint URL\n",
    "url = f'{translate_endpoint}/translate'\n",
    "\n",
    "# Request headers\n",
    "headers = {\n",
    "    'accept': 'application/json',\n",
    "    'Content-Type': 'application/x-www-form-urlencoded',\n",
    "}\n",
    "\n",
    "# Request payload\n",
    "payload = {\n",
    "    'q': '年迈还账',  # Your input text to be translated\n",
    "    'source': 'zh',\n",
    "    'target': 'en',\n",
    "    'format': 'text',\n",
    "    'api_key': 'xxxxxxxx-xxxx-xxxx-xxxx-xxxxxxxxxxxx',\n",
    "}\n",
    "\n",
    "# Make a POST request\n",
    "response = requests.post(url, headers=headers, data=payload)\n",
    "\n",
    "# Check the response\n",
    "if response.status_code == 200:\n",
    "    # Successful request, print the response content\n",
    "    print(response.json())\n",
    "else:\n",
    "    # Print the error message\n",
    "    print(f\"Error: {response.status_code}, {response.text}\")"
   ]
  },
  {
   "cell_type": "code",
   "execution_count": null,
   "metadata": {},
   "outputs": [],
   "source": []
  }
 ],
 "metadata": {
  "kernelspec": {
   "display_name": "jbcs",
   "language": "python",
   "name": "python3"
  },
  "language_info": {
   "codemirror_mode": {
    "name": "ipython",
    "version": 3
   },
   "file_extension": ".py",
   "mimetype": "text/x-python",
   "name": "python",
   "nbconvert_exporter": "python",
   "pygments_lexer": "ipython3",
   "version": "3.8.10"
  }
 },
 "nbformat": 4,
 "nbformat_minor": 2
}
