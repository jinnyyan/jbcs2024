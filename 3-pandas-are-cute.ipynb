{
 "cells": [
  {
   "cell_type": "code",
   "execution_count": null,
   "metadata": {},
   "outputs": [],
   "source": [
    "%pip install -r requirements.txt # Only run if haven't run before"
   ]
  },
  {
   "cell_type": "markdown",
   "metadata": {},
   "source": [
    "### Step 1 - Import dependencies"
   ]
  },
  {
   "cell_type": "code",
   "execution_count": null,
   "metadata": {},
   "outputs": [],
   "source": [
    "import pandas as pd"
   ]
  },
  {
   "cell_type": "markdown",
   "metadata": {},
   "source": [
    "### Step 2 - Profit"
   ]
  },
  {
   "cell_type": "markdown",
   "metadata": {},
   "source": [
    "*TODO*"
   ]
  },
  {
   "cell_type": "code",
   "execution_count": null,
   "metadata": {},
   "outputs": [],
   "source": [
    "# Display options (optional)\n",
    "pd.set_option('display.max_columns', None)\n",
    "pd.set_option('display.expand_frame_repr', False)\n",
    "\n",
    "# Create a DataFrame\n",
    "data = {'Name': ['Alice', 'Bob', 'Charlie'],\n",
    "        'Age': [25, 30, 35],\n",
    "        'City': ['New York', 'San Francisco', 'Los Angeles']}\n",
    "\n",
    "df = pd.DataFrame(data)\n",
    "\n",
    "# Display the DataFrame\n",
    "df\n",
    "\n",
    "# Basic DataFrame operations\n",
    "# ---------------------------\n",
    "\n",
    "# Selecting columns\n",
    "df['Name']\n",
    "df[['Name', 'Age']]\n",
    "\n",
    "# Filtering rows\n",
    "df[df['Age'] > 30]\n",
    "\n",
    "# Sorting\n",
    "df.sort_values(by='Age', ascending=False)\n",
    "\n",
    "# Grouping and aggregation\n",
    "df.groupby('City')['Age'].mean()\n",
    "\n",
    "# Handling missing values\n",
    "df.dropna()\n",
    "df.fillna(value)\n",
    "\n",
    "# Combining DataFrames\n",
    "df1 = pd.DataFrame(...)\n",
    "df2 = pd.DataFrame(...)\n",
    "pd.concat([df1, df2], axis=0)\n",
    "\n",
    "# Merging DataFrames\n",
    "pd.merge(df1, df2, on='key')\n",
    "\n",
    "# Reshaping\n",
    "df.pivot(index='Date', columns='City', values='Temperature')\n",
    "\n",
    "# Plotting\n",
    "df.plot(kind='bar', x='Name', y='Age')\n",
    "\n",
    "# Save to CSV\n",
    "df.to_csv('output.csv', index=False)"
   ]
  },
  {
   "cell_type": "markdown",
   "metadata": {},
   "source": [
    "*TODO*"
   ]
  },
  {
   "cell_type": "code",
   "execution_count": null,
   "metadata": {},
   "outputs": [],
   "source": [
    "# TODO"
   ]
  },
  {
   "cell_type": "markdown",
   "metadata": {},
   "source": [
    "*TODO*"
   ]
  },
  {
   "cell_type": "code",
   "execution_count": 1,
   "metadata": {},
   "outputs": [],
   "source": [
    "# TODO"
   ]
  }
 ],
 "metadata": {
  "kernelspec": {
   "display_name": "Python 3",
   "language": "python",
   "name": "python3"
  },
  "language_info": {
   "codemirror_mode": {
    "name": "ipython",
    "version": 3
   },
   "file_extension": ".py",
   "mimetype": "text/x-python",
   "name": "python",
   "nbconvert_exporter": "python",
   "pygments_lexer": "ipython3",
   "version": "3.8.10"
  }
 },
 "nbformat": 4,
 "nbformat_minor": 2
}
