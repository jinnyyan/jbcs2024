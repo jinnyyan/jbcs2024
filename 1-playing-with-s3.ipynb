{
 "cells": [
  {
   "cell_type": "code",
   "execution_count": null,
   "metadata": {},
   "outputs": [],
   "source": [
    "%pip install -r requirements.txt # Only run if haven't run before"
   ]
  },
  {
   "cell_type": "markdown",
   "metadata": {},
   "source": [
    "### Step 1 - Import dependencies"
   ]
  },
  {
   "cell_type": "code",
   "execution_count": null,
   "metadata": {},
   "outputs": [],
   "source": [
    "import boto3 # Library for interacting with S3 protocol\n",
    "import yaml # Library for loading in yaml files"
   ]
  },
  {
   "cell_type": "markdown",
   "metadata": {},
   "source": [
    "### Step 2 - Load Secrets & Global Variables"
   ]
  },
  {
   "cell_type": "code",
   "execution_count": null,
   "metadata": {},
   "outputs": [],
   "source": [
    "keys_file_path = 'keys.yaml' # TODO: Make sure this is in your repository and get your own access/secret keys from MinIO!\n",
    "\n",
    "with open(keys_file_path, 'r') as file:\n",
    "    keys = yaml.safe_load(file)\n",
    "\n",
    "minio_endpoint = keys.get('services')['minio_endpoint'] \n",
    "minio_credentials = keys.get('minio')"
   ]
  },
  {
   "cell_type": "code",
   "execution_count": null,
   "metadata": {},
   "outputs": [],
   "source": [
    "access_key = minio_credentials.get('access_key')\n",
    "secret_key = minio_credentials.get('secret_key')"
   ]
  },
  {
   "cell_type": "markdown",
   "metadata": {},
   "source": [
    "### Step 3 - Set up boto3 session"
   ]
  },
  {
   "cell_type": "code",
   "execution_count": null,
   "metadata": {},
   "outputs": [],
   "source": [
    "session = boto3.session.Session()\n",
    "s3_client = session.client(\n",
    "    's3',\n",
    "    endpoint_url=minio_endpoint,\n",
    "    aws_access_key_id=access_key,\n",
    "    aws_secret_access_key=secret_key\n",
    ")"
   ]
  },
  {
   "cell_type": "markdown",
   "metadata": {},
   "source": [
    "### Step 4 - Profit"
   ]
  },
  {
   "cell_type": "code",
   "execution_count": null,
   "metadata": {},
   "outputs": [],
   "source": [
    "bucket_name = 'test'\n",
    "object_key = 'test.txt'"
   ]
  },
  {
   "cell_type": "markdown",
   "metadata": {},
   "source": [
    "*List Directory Example*"
   ]
  },
  {
   "cell_type": "code",
   "execution_count": null,
   "metadata": {},
   "outputs": [],
   "source": [
    "response = s3_client.list_objects(Bucket=bucket_name)\n",
    "\n",
    "# Check if the response contains any objects\n",
    "if 'Contents' in response:\n",
    "    # Iterate through the objects and print their key names\n",
    "    for obj in response['Contents']:\n",
    "        print(f\"Object Key: {obj['Key']}\")\n",
    "else:\n",
    "    print(f\"The bucket '{bucket_name}' is empty.\")\n"
   ]
  },
  {
   "cell_type": "markdown",
   "metadata": {},
   "source": [
    "*Get MetaData Example*"
   ]
  },
  {
   "cell_type": "code",
   "execution_count": null,
   "metadata": {},
   "outputs": [],
   "source": [
    "# Get metadata of the specified object\n",
    "try:\n",
    "    response = s3_client.head_object(Bucket=bucket_name, Key=object_key)\n",
    "    \n",
    "    # Print metadata information\n",
    "    print(f\"Object Key: {response['Metadata'].get('key')}\")\n",
    "    print(f\"Last Modified: {response['LastModified']}\")\n",
    "    print(f\"Content Type: {response['ContentType']}\")\n",
    "    print(f\"Content Length: {response['ContentLength']} bytes\")\n",
    "    \n",
    "except Exception as e:\n",
    "    print(f\"Error: {e}\")"
   ]
  },
  {
   "cell_type": "markdown",
   "metadata": {},
   "source": [
    "*Get Object Example*"
   ]
  },
  {
   "cell_type": "code",
   "execution_count": null,
   "metadata": {},
   "outputs": [],
   "source": [
    "# Download the object\n",
    "response = s3_client.get_object(Bucket=bucket_name, Key=object_key)\n",
    "\n",
    "# Read the content of the object\n",
    "object_content = response['Body'].read()\n",
    "\n",
    "# Process or save the object content as needed\n",
    "# For example, print the content\n",
    "print(object_content.decode('utf-8'))"
   ]
  }
 ],
 "metadata": {
  "kernelspec": {
   "display_name": "Python 3",
   "language": "python",
   "name": "python3"
  },
  "language_info": {
   "codemirror_mode": {
    "name": "ipython",
    "version": 3
   },
   "file_extension": ".py",
   "mimetype": "text/x-python",
   "name": "python",
   "nbconvert_exporter": "python",
   "pygments_lexer": "ipython3",
   "version": "3.8.10"
  }
 },
 "nbformat": 4,
 "nbformat_minor": 2
}
